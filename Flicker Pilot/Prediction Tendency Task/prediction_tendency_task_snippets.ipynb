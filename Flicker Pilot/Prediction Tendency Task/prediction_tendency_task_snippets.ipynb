{
  "nbformat": 4,
  "nbformat_minor": 0,
  "metadata": {
    "colab": {
      "provenance": []
    },
    "kernelspec": {
      "name": "python3",
      "display_name": "Python 3"
    },
    "language_info": {
      "name": "python"
    }
  },
  "cells": [
    {
      "cell_type": "markdown",
      "source": [
        "# Prediction Tendency Task - Translation into Python\n",
        "\n",
        "### Author: Merle Schuckart\n",
        "### Contact: merle.schuckart@uni-luebeck.de\n",
        "### Version: 9th of May, 2023\n",
        "-----\n",
        "\n",
        "#### What is this notebook about?\n",
        "I would like to include Juliane Schubert's prediction tendency task in my EEG study EXNAT-2, and she was so kind to give me access to her experiment repo on Gitlab.\n",
        "\n",
        "In her task, she \"presented tone sequences of varying entropy level, to independently quantify auditory prediction tendency (as the tendency to anticipate low-level acoustic features) for each individual.\" (Schubert et al., 2023 --> https://doi.org/10.1093/cercor/bhac528)\n",
        "\n",
        "Now the \"problem\" is that the original prediction tendency task is completely built in Matlab, whereas I wanted to have 1 single experiment file completely written in Python and not different sub-experiments in different programming languages.\n",
        "\n",
        "So I have to translate more or less everything into Python. I use this notebook to collect and test all the snippets before I add them to the experiment."
      ],
      "metadata": {
        "id": "hHyKk9qyFrFA"
      }
    },
    {
      "cell_type": "markdown",
      "source": [
        "Structure of Julianes Repo:\n",
        "\n",
        "withinblock_markov\n",
        "  - exp\n",
        "      - init\n",
        "          - config.ptb.m\n",
        "          - create_markov_transition_matrix.m\n",
        "          - init.ptb.m\n",
        "          - prepare_cfg.m\n",
        "          - prepare_stims.m\n",
        "      - parts\n",
        "          - helper\n",
        "              - get_trigger_sequence.m\n",
        "              - prepare_markov_sound_chain.m\n",
        "              - submit_markov_sound_chain.m\n",
        "          - block.m\n",
        "          - prepare_subject.m\n",
        "          - resting.m\n",
        "          - volume_bayes.m\n",
        "  - functions\n",
        "      - create_markov_matrix_from_entropy.m\n",
        "      - create_mid_markov.m\n",
        "      - create_ordered_markov.m\n",
        "      - create_random_markov.m\n",
        "      - ft_cfg2keyval.m\n",
        "      - ft_getopt.m\n",
        "  - o_ptb_helper\n",
        "      - volume_bayes.m\n",
        "      - volume_staircase.m\n",
        "      - private\n",
        "          - volume_bayes_present.m\n",
        "  - external\n",
        "      --> a lot of external package files?\n",
        "  - calc_nstims.m\n",
        "  - run.m\n",
        "  - sync_behav.sh"
      ],
      "metadata": {
        "id": "oJfeaCeoA4d2"
      }
    },
    {
      "cell_type": "code",
      "execution_count": 40,
      "metadata": {
        "id": "5U2A4nOTFM0y",
        "colab": {
          "base_uri": "https://localhost:8080/",
          "height": 568
        },
        "outputId": "53f58141-347d-4b20-fe54-d429230896c3"
      },
      "outputs": [
        {
          "output_type": "stream",
          "name": "stdout",
          "text": [
            "Looking in indexes: https://pypi.org/simple, https://us-python.pkg.dev/colab-wheels/public/simple/\n",
            "Requirement already satisfied: hmmlearn in /usr/local/lib/python3.10/dist-packages (0.3.0)\n",
            "Requirement already satisfied: numpy>=1.10 in /usr/local/lib/python3.10/dist-packages (from hmmlearn) (1.22.4)\n",
            "Requirement already satisfied: scikit-learn!=0.22.0,>=0.16 in /usr/local/lib/python3.10/dist-packages (from hmmlearn) (1.2.2)\n",
            "Requirement already satisfied: scipy>=0.19 in /usr/local/lib/python3.10/dist-packages (from hmmlearn) (1.10.1)\n",
            "Requirement already satisfied: joblib>=1.1.1 in /usr/local/lib/python3.10/dist-packages (from scikit-learn!=0.22.0,>=0.16->hmmlearn) (1.2.0)\n",
            "Requirement already satisfied: threadpoolctl>=2.0.0 in /usr/local/lib/python3.10/dist-packages (from scikit-learn!=0.22.0,>=0.16->hmmlearn) (3.1.0)\n"
          ]
        },
        {
          "output_type": "error",
          "ename": "ImportError",
          "evalue": "ignored",
          "traceback": [
            "\u001b[0;31m---------------------------------------------------------------------------\u001b[0m",
            "\u001b[0;31mImportError\u001b[0m                               Traceback (most recent call last)",
            "\u001b[0;32m<ipython-input-40-37b1d5e28c1b>\u001b[0m in \u001b[0;36m<cell line: 9>\u001b[0;34m()\u001b[0m\n\u001b[1;32m      7\u001b[0m \u001b[0;32mfrom\u001b[0m \u001b[0mhmmlearn\u001b[0m \u001b[0;32mimport\u001b[0m \u001b[0mhmm\u001b[0m \u001b[0;31m# for hidden markov models\u001b[0m\u001b[0;34m\u001b[0m\u001b[0;34m\u001b[0m\u001b[0m\n\u001b[1;32m      8\u001b[0m \u001b[0;34m\u001b[0m\u001b[0m\n\u001b[0;32m----> 9\u001b[0;31m \u001b[0;32mfrom\u001b[0m \u001b[0mscipy\u001b[0m\u001b[0;34m.\u001b[0m\u001b[0moptimize\u001b[0m \u001b[0;32mimport\u001b[0m \u001b[0mfmin_constrained\u001b[0m\u001b[0;34m\u001b[0m\u001b[0;34m\u001b[0m\u001b[0m\n\u001b[0m",
            "\u001b[0;31mImportError\u001b[0m: cannot import name 'fmin_constrained' from 'scipy.optimize' (/usr/local/lib/python3.10/dist-packages/scipy/optimize/__init__.py)",
            "",
            "\u001b[0;31m---------------------------------------------------------------------------\u001b[0;32m\nNOTE: If your import is failing due to a missing package, you can\nmanually install dependencies using either !pip or !apt.\n\nTo view examples of installing some common dependencies, click the\n\"Open Examples\" button below.\n\u001b[0;31m---------------------------------------------------------------------------\u001b[0m\n"
          ],
          "errorDetails": {
            "actions": [
              {
                "action": "open_url",
                "actionText": "Open Examples",
                "url": "/notebooks/snippets/importing_libraries.ipynb"
              }
            ]
          }
        }
      ],
      "source": [
        "# import packages\n",
        "import numpy as np\n",
        "from scipy.optimize import fmin_slsqp # for minimizing constrained nonlinear multivariable functions - I think that's the Python alternative for Matlab's fmincon function\n",
        "import matplotlib.pyplot as plt # for testing\n",
        "\n",
        "!pip install hmmlearn\n",
        "from hmmlearn import hmm # for hidden markov models\n",
        "\n",
        "from scipy.optimize import fmin_constrained"
      ]
    },
    {
      "cell_type": "code",
      "source": [
        "''' Helper functions '''\n",
        "# Some Matlab functions don't exist in Python (at least not 1:1),\n",
        "# so I wrote custom ones.\n",
        "\n",
        "\n",
        "\n",
        "# Function: Find minimum of constrained nonlinear multivariable function\n",
        "#def\n",
        "\n",
        "\n",
        "\n",
        "\n",
        "\n",
        "# Entropy Error Function:\n",
        "def entropy_error(x, entropy):\n",
        "  print(\"running function entropy_error (from custom helper functions)\")\n",
        "\n",
        "  p = np.reshape(x, (n_features, n_features))  # Reshape the input vector to matrix form\n",
        "  return np.sum(p * np.log(p)) - entropy  # Compute the entropy error using the reshaped matrix form of the input vector\n",
        "\n",
        "\n"
      ],
      "metadata": {
        "id": "1L9rNkC4Q5ZI"
      },
      "execution_count": 38,
      "outputs": []
    },
    {
      "cell_type": "code",
      "source": [
        "''' Python Code for \"exp/init/config.ptb.m\" '''\n",
        "\n",
        "# Those are just settings for the experiment, I guess I don't need them."
      ],
      "metadata": {
        "id": "PeEDQDPPMrq7"
      },
      "execution_count": null,
      "outputs": []
    },
    {
      "cell_type": "code",
      "source": [
        "''' Python Code for \"exp/init/init.ptb.m\" '''\n",
        "# I guess this is just to set up triggers and sound devices?\n"
      ],
      "metadata": {
        "colab": {
          "base_uri": "https://localhost:8080/",
          "height": 35
        },
        "id": "fFXB4YrCMz-v",
        "outputId": "5f10d21c-ecb1-4151-f8bf-a1f959d3ba4d"
      },
      "execution_count": 16,
      "outputs": [
        {
          "output_type": "execute_result",
          "data": {
            "text/plain": [
              "' Python Code for \"exp/init/init.ptb.m\" '"
            ],
            "application/vnd.google.colaboratory.intrinsic+json": {
              "type": "string"
            }
          },
          "metadata": {},
          "execution_count": 16
        }
      ]
    },
    {
      "cell_type": "code",
      "source": [
        "# DONE\n",
        "''' Python Code for \"exp/init/prepare_cfg.m\" '''\n",
        "\n",
        "\n",
        "''' What does this function do? '''\n",
        "# --> creates dict called cfg and fills it with the\n",
        "#     specified values. Matlab's struct = Python's dict\n",
        "\n",
        "def prepare_cfg():\n",
        "    print(\"running function prepare_cfg\")\n",
        "\n",
        "    # This function prepares paths and configures\n",
        "    # stimulus properties and trigger values\n",
        "\n",
        "    cfg = {}\n",
        "    cfg['data_path'] = 'data'\n",
        "\n",
        "    cfg['markov'] = {}\n",
        "    cfg['markov']['n_features'] = 4\n",
        "    cfg['markov']['min_prob'] = 0.05\n",
        "    cfg['markov']['iti'] = 1/3\n",
        "    cfg['exp'] = {}\n",
        "    cfg['exp']['trials_per_block'] = 1500\n",
        "\n",
        "    cfg['add_db'] = 40\n",
        "\n",
        "    base_freq = 440\n",
        "    fourth_ratio = 4/3\n",
        "\n",
        "    freqs = []\n",
        "    for idx_freq in range(1, 5):\n",
        "        freqs.append(base_freq * (fourth_ratio**(idx_freq-1)))\n",
        "\n",
        "    cfg['sounds'] = {}\n",
        "    cfg['sounds']['freqs'] = freqs\n",
        "    cfg['sounds']['stim_length'] = 0.1\n",
        "    cfg['sounds']['fade'] = 5e-3\n",
        "\n",
        "    cfg['triggers'] = {}\n",
        "    cfg['triggers']['stims'] = [16, 32, 64, 128]\n",
        "\n",
        "    cfg['triggers']['condition'] = {}\n",
        "    cfg['triggers']['condition']['ordered'] = 1\n",
        "    cfg['triggers']['condition']['random'] = 2\n",
        "\n",
        "    # note that triggers will be added for every stimulus to provide info about\n",
        "    # current entropy level! (e.g. F440 during random = 17)\n",
        "    return cfg\n",
        "\n",
        "\n",
        "# test function:\n",
        "print(prepare_cfg())\n",
        "# This is how you extract certain values (e.g. number of features):\n",
        "print(prepare_cfg()['markov']['n_features'])"
      ],
      "metadata": {
        "colab": {
          "base_uri": "https://localhost:8080/"
        },
        "id": "V1GSw_xEM6Bt",
        "outputId": "5711c35d-3f42-4fed-ff0c-1c12240bcc9f"
      },
      "execution_count": 37,
      "outputs": [
        {
          "output_type": "stream",
          "name": "stdout",
          "text": [
            "running function prepare_cfg\n",
            "{'data_path': 'data', 'markov': {'n_features': 4, 'min_prob': 0.05, 'iti': 0.3333333333333333}, 'exp': {'trials_per_block': 1500}, 'add_db': 40, 'sounds': {'freqs': [440.0, 586.6666666666666, 782.2222222222222, 1042.9629629629628], 'stim_length': 0.1, 'fade': 0.005}, 'triggers': {'stims': [16, 32, 64, 128], 'condition': {'ordered': 1, 'random': 2}}}\n",
            "running function prepare_cfg\n",
            "4\n"
          ]
        }
      ]
    },
    {
      "cell_type": "code",
      "source": [
        "# DONE?\n",
        "\n",
        "# --> relies on create_ordered_markov(), create_random_markov()\n",
        "# and create_mid_markov() from \"functions/\" file\n",
        "\n",
        "''' Python Code for \"exp/init/create_markov_transition_matrix.m\" '''\n",
        "\n",
        "def create_markov_transition_matrix(cfg):\n",
        "    print(\"running function create_markov_transition_matrix\")\n",
        "\n",
        "    # Loads all markov trans_mats\n",
        "    n_features = cfg['markov']['n_features']\n",
        "    trans_mats = {}\n",
        "\n",
        "    trans_mats['ordered'] = create_ordered_markov(n_features)\n",
        "    trans_mats['random'] = create_random_markov(n_features)\n",
        "    trans_mats['mid'] = create_mid_markov(n_features)\n",
        "\n",
        "    return trans_mats\n",
        "\n",
        "print(create_markov_transition_matrix(prepare_cfg()))"
      ],
      "metadata": {
        "colab": {
          "base_uri": "https://localhost:8080/"
        },
        "id": "JNSgvJJ-Mww_",
        "outputId": "1618aa73-1c5d-4020-873b-4848d6a9dc48"
      },
      "execution_count": 64,
      "outputs": [
        {
          "output_type": "stream",
          "name": "stdout",
          "text": [
            "running function prepare_cfg\n",
            "running function create_markov_transition_matrix\n",
            "[[0.25 0.   0.   0.  ]\n",
            " [0.   0.25 0.   0.  ]\n",
            " [0.   0.   0.25 0.  ]\n",
            " [0.   0.   0.   0.25]]\n",
            "{'ordered': array([[0.25, 0.75, 0.  , 0.  ],\n",
            "       [0.  , 0.25, 0.75, 0.  ],\n",
            "       [0.  , 0.  , 0.25, 0.75],\n",
            "       [0.  , 0.  , 0.  , 0.25]]), 'random': array([[0.25, 0.25, 0.25, 0.25],\n",
            "       [0.25, 0.25, 0.25, 0.25],\n",
            "       [0.25, 0.25, 0.25, 0.25],\n",
            "       [0.25, 0.25, 0.25, 0.25]]), 'mid': array([[0.375, 0.375, 0.   , 0.25 ],\n",
            "       [0.25 , 0.375, 0.375, 0.   ],\n",
            "       [0.   , 0.25 , 0.375, 0.375],\n",
            "       [0.375, 0.   , 0.25 , 0.375]])}\n"
          ]
        }
      ]
    },
    {
      "cell_type": "code",
      "source": [
        "# DONE\n",
        "# --> relies on create_markov_transition_matrix() from exp/init/...\n",
        "\n",
        "''' Python Code for \"exp/init/prepare_stims.m\" '''\n",
        "\n",
        "\n",
        "''' What does this function do? '''\n",
        "\n",
        "# 1. Creates audio stimuli using the cfg configuration object and\n",
        "#    returns a dict of audio stimuli and their trigger values.\n",
        "\n",
        "#    The audio stimuli are created by looping over the freqs in cfg[\"sounds\"][\"freqs\"],\n",
        "#    building sine waves for the current freq and duration,\n",
        "#    and applying a cosine ramp to each stimulus.\n",
        "#    The trigger names are from cfg[\"triggers\"][\"stims\"].\n",
        "\n",
        "\n",
        "# 2. Generates Markov transition matrix (using the create_markov_transition_matrix\n",
        "#    function from the exp.init module) & add it to the\n",
        "#    output dict under the name \"markov\".\n",
        "\n",
        "#     Function Argument:\n",
        "#             - cfg object (output from the custom prepare_cfg() function)\n",
        "\n",
        "#     Function Output:\n",
        "#             - dict called \"stims\" containing audio stimuli and\n",
        "#               their trigger values + Markov transition matrix\n",
        "\n",
        "def prepare_stims(cfg):\n",
        "\n",
        "    print(\"running function prepare_stims\")\n",
        "\n",
        "    stims = {\"audio\": [], \"trigger\": [], \"markov\": {}}\n",
        "\n",
        "    # loop frequencies in cfg[\"sounds\"][\"freqs\"]\n",
        "    for i in range(len(cfg[\"sounds\"][\"freqs\"])):\n",
        "\n",
        "        # get current frequency:\n",
        "        cur_freq = cfg[\"sounds\"][\"freqs\"][i]\n",
        "        print(\"cur_freq:\", cur_freq)\n",
        "        # build audio stimulus by creating a sine wave with the current frequency and duration\n",
        "        # careful, o_ptb is from a MATLAB package: https://o-ptb.readthedocs.io/en/latest/\n",
        "        #audio_stim = o_ptb.stimuli.auditory.Sine(cur_freq, cfg[\"sounds\"][\"stim_length\"])\n",
        "\n",
        "        # get duration of current stimulus from dict\n",
        "        cur_duration = cfg[\"sounds\"][\"stim_length\"]\n",
        "        print(\"cur_duration:\", cur_duration)\n",
        "        # build a time array: you need the current duration and the right sampling frequency for your device\n",
        "        # 1 divided by the sampling rate = duration of a single sample in sec\n",
        "        audio_sample_freq = 44100 # 44100 Hz --> audio sampling rate at the lab (according to Frauke)\n",
        "        sound_sample_len = 1/audio_sample_freq\n",
        "        t = np.arange(0, cur_duration, sound_sample_len)\n",
        "\n",
        "        # generate sine wave:\n",
        "        sine_wave = np.sin(2*np.pi*cur_freq*t)\n",
        "\n",
        "        # plot the sine wave\n",
        "        #plt.plot(t, sine_wave)\n",
        "        #plt.xlabel('Time (s)')\n",
        "        #plt.ylabel('Amplitude')\n",
        "        #plt.show()\n",
        "\n",
        "        # Apply cosine ramp to \"smoothen\" the edges of the sound a bit (I'm not an audio expert as you can tell)\n",
        "        # We basically gradually turn up the sound, play it for a while,\n",
        "        # and then decrease the volume again so it doesn't make annoying clicky noises when it's played.\n",
        "\n",
        "        # get fade duration from config\n",
        "        cur_fade_duration = cfg[\"sounds\"][\"fade\"]\n",
        "        print(\"fade:\", cur_fade_duration)\n",
        "\n",
        "        # apply cosine ramp:\n",
        "        # check how many samples we have to use for the fade in/out:\n",
        "        fade_samples = int(cur_fade_duration * audio_sample_freq)\n",
        "\n",
        "        # if there are enough, but not too many fade samples,\n",
        "        # apply cosine ramp to signal\n",
        "        if fade_samples > 0 and fade_samples < len(sine_wave):\n",
        "            ramp = np.cos(np.linspace(0, np.pi / 2, fade_samples))\n",
        "            sine_wave[:fade_samples] *= ramp[::-1]\n",
        "            sine_wave[-fade_samples:] *= ramp\n",
        "\n",
        "        # plot the modified sine wave again\n",
        "        #plt.plot(t, sine_wave)\n",
        "        #plt.xlabel('Time (s)')\n",
        "        #plt.ylabel('Amplitude')\n",
        "        #plt.show()\n",
        "\n",
        "        # append audio stimulus and corresponding trigger to \"stims\" dict\n",
        "        stims[\"audio\"].append(sine_wave)\n",
        "        stims[\"trigger\"].append(cfg[\"triggers\"][\"stims\"][i])\n",
        "\n",
        "    # also add markov transition matrix to the output dict\n",
        "    # under the name \"trans_mats\"\n",
        "    #print(create_markov_transition_matrix(cfg))\n",
        "    stims[\"markov\"][\"trans_mats\"] = create_markov_transition_matrix(cfg)\n",
        "\n",
        "    # return dict with stims and markov transition matrix:\n",
        "    return stims\n",
        "\n",
        "\n",
        "# Test it:\n",
        "print(\"stims: \", prepare_stims(prepare_cfg()))"
      ],
      "metadata": {
        "colab": {
          "base_uri": "https://localhost:8080/"
        },
        "id": "mK05r74MM_Su",
        "outputId": "abaf3b0e-ace2-4c36-a385-7f893b453193"
      },
      "execution_count": 69,
      "outputs": [
        {
          "output_type": "stream",
          "name": "stdout",
          "text": [
            "running function prepare_cfg\n",
            "running function prepare_stims\n",
            "cur_freq: 440.0\n",
            "cur_duration: 0.1\n",
            "fade: 0.005\n",
            "cur_freq: 586.6666666666666\n",
            "cur_duration: 0.1\n",
            "fade: 0.005\n",
            "cur_freq: 782.2222222222222\n",
            "cur_duration: 0.1\n",
            "fade: 0.005\n",
            "cur_freq: 1042.9629629629628\n",
            "cur_duration: 0.1\n",
            "fade: 0.005\n",
            "running function create_markov_transition_matrix\n",
            "[[0.25 0.   0.   0.  ]\n",
            " [0.   0.25 0.   0.  ]\n",
            " [0.   0.   0.25 0.  ]\n",
            " [0.   0.   0.   0.25]]\n",
            "stims:  {'audio': [array([ 0.00000000e+00,  4.49346638e-04,  1.79380974e-03, ...,\n",
            "       -2.68190203e-03, -8.96927941e-04, -3.83610348e-18]), array([ 0.00000000e+00,  5.98823598e-04,  2.38687039e-03, ...,\n",
            "       -1.02546001e-02, -5.52826173e-03, -5.02875253e-17]), array([0.00000000e+00, 7.97708208e-04, 3.17095573e-03, ...,\n",
            "       1.25271019e-02, 6.61349319e-03, 5.87454165e-17]), array([0.00000000e+00, 1.06189786e-03, 4.20067389e-03, ...,\n",
            "       1.41729241e-02, 7.17238186e-03, 6.06135064e-17])], 'trigger': [16, 32, 64, 128], 'markov': {'trans_mats': {'ordered': array([[0.25, 0.75, 0.  , 0.  ],\n",
            "       [0.  , 0.25, 0.75, 0.  ],\n",
            "       [0.  , 0.  , 0.25, 0.75],\n",
            "       [0.  , 0.  , 0.  , 0.25]]), 'random': array([[0.25, 0.25, 0.25, 0.25],\n",
            "       [0.25, 0.25, 0.25, 0.25],\n",
            "       [0.25, 0.25, 0.25, 0.25],\n",
            "       [0.25, 0.25, 0.25, 0.25]]), 'mid': array([[0.375, 0.375, 0.   , 0.25 ],\n",
            "       [0.25 , 0.375, 0.375, 0.   ],\n",
            "       [0.   , 0.25 , 0.375, 0.375],\n",
            "       [0.375, 0.   , 0.25 , 0.375]])}}}\n"
          ]
        }
      ]
    },
    {
      "cell_type": "code",
      "source": [
        "# DONE?\n",
        "# --> relies on input sequence, condition, trigger\n",
        "\n",
        "\n",
        "''' Python Code for \"exp/parts/helper/get_trigger_sequence.m\" '''\n",
        "\n",
        "def get_trigger_sequence(sequence, condition, trigger):\n",
        "\n",
        "    print(\"running function get_trigger_sequence\")\n",
        "\n",
        "    ''' What does this function do?'''\n",
        "    # - transforms item values to trigger values using the trigger\n",
        "    #   info from cfg.triggers\n",
        "    # - Condition triggers will be added to stimulus\n",
        "    #   triggers to provide info about the current entropy level.\n",
        "\n",
        "\n",
        "    trigger_sequence = np.zeros_like(sequence)\n",
        "\n",
        "    for i in range(len(sequence)):\n",
        "        cur_stim = sequence[i]\n",
        "        cur_trigger = trigger[\"stims\"][cur_stim] + trigger[\"condition\"][condition]\n",
        "        trigger_sequence[i] = cur_trigger\n",
        "\n",
        "    print(\"generated a sequence of triggers:\", trigger_sequence)\n",
        "    return trigger_sequence\n"
      ],
      "metadata": {
        "id": "GWR0OE7nLUOB"
      },
      "execution_count": 34,
      "outputs": []
    },
    {
      "cell_type": "code",
      "source": [
        "# DONE?\n",
        "# --> relies on cfg, stims, condition, n_stims\n",
        "''' Python Code for \"exp/parts/helper/prepare_markov_sound_chain.m\" '''\n",
        "\n",
        "\n",
        "''' What does this function do? '''\n",
        "# The markov chain (with length n_stims) is generated from transition\n",
        "# probabilities (hidden to the observer, as we have defined them) and\n",
        "# emission probabilities (= probabilities of the observations themselves)\n",
        "\n",
        "# EXAMPLE: suppose we have only 2 states = (tones)\n",
        "# p_trans = [0, 1;... # from state 1 it goes always to state 2\n",
        "#           1, 0]     # (and vice versa)\n",
        "\n",
        "# p_em = [0.9, 0.1;... # BUT if state 1 is chosen there is still a small prob that state 2 will be emitted\n",
        "#        0.1, 0.9]     # (and vice versa)\n",
        "\n",
        "# markov_chain = hmmgenerate(10,p_trans,p_em) # this is matlab code btw\n",
        "# the generated sequence could look like this:\n",
        "# 2     1     2     1     1     1     2     1     2     1\n",
        "\n",
        "# in our case we always want to emit the given state with 100% probability.\n",
        "\n",
        "\n",
        "def prepare_markov_sound_chain(cfg, stims, condition, n_stims):\n",
        "    print(\"running function prepare_markov_sound_chain\")\n",
        "\n",
        "    # Generate the Markov chain sequence based on\n",
        "    # transition and emission probabilities\n",
        "\n",
        "    # Get the transition matrix based on the given condition\n",
        "    transition_matrix = stims[\"markov\"][\"trans_mats\"][condition]\n",
        "\n",
        "    # Define the emission probability matrix as an\n",
        "    # identity matrix since we want to emit\n",
        "    # the given state with 100% probability\n",
        "    emission_matrix = np.eye(cfg[\"markov\"][\"n_features\"])\n",
        "\n",
        "    # get settings from cfg\n",
        "    n_features = cfg[\"markov\"][\"n_features\"]\n",
        "\n",
        "    # Generate the Markov chain sequence using the transition and emission matrices\n",
        "    model = hmm.MultinomialHMM(n_components = n_features,\n",
        "                               verbose = False,\n",
        "                               params = \"ste\")\n",
        "    model.startprob_ = np.ones(n_features) / n_features  # Set equal initial probabilities\n",
        "    model.transmat_ = transition_matrix\n",
        "    model.emissionprob_ = emission_matrix\n",
        "    sequence = model.sample(n_samples = n_stims, random_state = None)[0].tolist()\n",
        "\n",
        "# Test it!\n",
        "cfg = prepare_cfg()\n",
        "stims = prepare_stims(cfg)\n",
        "condition = \"ordered\"\n",
        "n_stims = 10\n",
        "\n",
        "sequence = prepare_markov_sound_chain(cfg, stims, condition, n_stims)\n",
        "print(sequence)\n",
        "\n"
      ],
      "metadata": {
        "id": "DcQS7QnFLc3P"
      },
      "execution_count": null,
      "outputs": []
    },
    {
      "cell_type": "code",
      "source": [
        "''' Python Code for \"exp/parts/helper/submit_markov_sound_chain.m\" '''\n",
        "\n",
        "\n"
      ],
      "metadata": {
        "id": "SHloieIFLgOH"
      },
      "execution_count": null,
      "outputs": []
    },
    {
      "cell_type": "code",
      "source": [
        "''' Python Code for \"exp/parts/block.m\" '''\n",
        "\n",
        "\n"
      ],
      "metadata": {
        "id": "mS9G7GXELluv"
      },
      "execution_count": null,
      "outputs": []
    },
    {
      "cell_type": "code",
      "source": [
        "''' Python Code for \"exp/parts/prepare_subject.m\" '''\n",
        "\n",
        "\n"
      ],
      "metadata": {
        "id": "Qsju72kfLuGI"
      },
      "execution_count": null,
      "outputs": []
    },
    {
      "cell_type": "code",
      "source": [
        "''' Python Code for \"exp/parts/resting.m\" '''\n",
        "\n",
        "\n"
      ],
      "metadata": {
        "id": "9mtQzQesLxoR"
      },
      "execution_count": null,
      "outputs": []
    },
    {
      "cell_type": "code",
      "source": [
        "''' Python Code for \"exp/parts/volume_bayes.m\" '''\n",
        "\n",
        "\n"
      ],
      "metadata": {
        "id": "m9NeWQAGL0cx"
      },
      "execution_count": null,
      "outputs": []
    },
    {
      "cell_type": "code",
      "source": [
        "''' Python Code for \"functions/create_markov_matrix_from_entropy.m\" '''\n",
        "\n",
        "''' What does this function do? '''\n",
        "# --> create a markov transition matrix, i.e. a matrix of\n",
        "#     n x n values (so basically a square matrix)\n",
        "#     that reflect a certain target entropy distribution.\n",
        "#     Each value is somewhere between 0 and 1, with the values in each row adding up to 1.\n",
        "\n",
        "#     At the beginning of the function, a random Markov matrix is created.\n",
        "#     After this, a minimisation algorithm (fmincon from the MATLAB optimization toolbox)\n",
        "#     is used to modify the values in the matrix so the target entropy distribution is reached.\n",
        "\n",
        "#     Function Arguments:\n",
        "#            n_features = number of states or features to be modelled\n",
        "#            entropy = target entropy distribution\n",
        "#            zero_elements = number of zero elements (default: 0)\n",
        "#            low_bound = lowest possible value for the matrix values\n",
        "#            optim_options = optimization options\n",
        "\n",
        "#     Function Output:\n",
        "#            A Markov transition matrix that should match the target entropy distribution.\n",
        "\n",
        "\n",
        "\n",
        "\n",
        "def create_markov_matrix_from_entropy(n_features, entropy, zero_elements = 0, low_bound = 0, optim_options = None):\n",
        "\n",
        "    print(\"running function create_markov_matrix_from_entropy\")\n",
        "\n",
        "    # Use default optimizer options if they are not set in the function call:\n",
        "    if optim_options == None:\n",
        "      # set options for optimizer\n",
        "      optim_options = {'maxiter': 30000} # max. number of function evaluations allowed is 30000\n",
        "\n",
        "    # Create a square matrix of shape n x n with\n",
        "    # random values between 0 and 1\n",
        "    startmat = np.random.rand(n_features, n_features)\n",
        "\n",
        "\n",
        "\n",
        "\n",
        "\n",
        "    # Set the lower and upper bounds of the optimization variables\n",
        "    lower_bound = np.zeros((n_features, n_features)) + low_bound\n",
        "    np.fill_diagonal(lower_bound, 1 / n_features)  # Set the diagonal elements to 1/n_features\n",
        "    upper_bound = np.ones((n_features, n_features))\n",
        "    np.fill_diagonal(upper_bound, 1 / n_features)  # Set the diagonal elements to 1/n_features\n",
        "\n",
        "\n",
        "\n",
        "    # Set some elements of the upper and lower\n",
        "    # bounds to zero to force some transitions to be zero\n",
        "\n",
        "    # loop number of zero elements:\n",
        "    for i in range(zero_elements):\n",
        "        # loop columns by looping number of features\n",
        "        for cur_col in range(n_features):\n",
        "            # get row index:\n",
        "            idx = cur_col + i\n",
        "            # if index is >= the number of columns...\n",
        "            if idx >= n_features: # careful, this is > in the original function as Matlab starts counting from 1, not from 0 as in Python\n",
        "                # set new row index by subtracting total number of columns from current index (this should set idx as 0 I think)\n",
        "                idx = idx - n_features\n",
        "            # now set upper and lower bound at row idx and current column index as 0\n",
        "            upper_bound[idx, cur_col] = 0\n",
        "            lower_bound[idx, cur_col] = 0\n",
        "\n",
        "\n",
        "    # Define the nonlinear constraints for the optimization problem\n",
        "    nonlcon = lambda x: (sum(x) - 1) + (np.sum(x, axis=1) - 1), []\n",
        "\n",
        "    # Use fmincon to minimize the entropy error function subject to the constraints\n",
        "    trans_mat = fmincon(lambda x: entropy_error(x, entropy), startmat.ravel(), [], [], [], [], lower_bound.ravel(), upper_bound.ravel(), nonlcon, options=optim_options)\n",
        "\n",
        "    # Reshape the output vector to matrix form\n",
        "    trans_mat = np.reshape(trans_mat, (n_features, n_features))\n",
        "\n",
        "    return trans_mat\n",
        "\n"
      ],
      "metadata": {
        "id": "P_syh67sMD66"
      },
      "execution_count": 62,
      "outputs": []
    },
    {
      "cell_type": "code",
      "source": [
        "# DONE\n",
        "''' Python Code for \"functions/create_mid_markov.m\" '''\n",
        "\n",
        "def create_mid_markov(n_features):\n",
        "\n",
        "    print(\"running function create_mid_markov\")\n",
        "\n",
        "    first_row = np.zeros(n_features)\n",
        "    first_row[0] = 1/n_features  # 0.25 repetition\n",
        "\n",
        "    n_remaining = n_features - 2\n",
        "    p_remaining = (1 - first_row[0]) / n_remaining  # equal probability of 0.375 for next or jump\n",
        "    first_row[1:-1] = p_remaining\n",
        "\n",
        "    trans_mat = np.zeros((n_features, n_features))\n",
        "\n",
        "    for idx_row in range(n_features):\n",
        "        trans_mat[idx_row, :] = np.roll(first_row, idx_row-1)\n",
        "\n",
        "    return trans_mat\n",
        "\n",
        "# Test it:\n",
        "print(create_mid_markov(n_features = 4))\n"
      ],
      "metadata": {
        "colab": {
          "base_uri": "https://localhost:8080/"
        },
        "id": "fVCOxj_fL5-K",
        "outputId": "2372f2da-7bb5-4426-a3bf-eb875a37dfb3"
      },
      "execution_count": 61,
      "outputs": [
        {
          "output_type": "stream",
          "name": "stdout",
          "text": [
            "[[0.375 0.375 0.    0.25 ]\n",
            " [0.25  0.375 0.375 0.   ]\n",
            " [0.    0.25  0.375 0.375]\n",
            " [0.375 0.    0.25  0.375]]\n"
          ]
        }
      ]
    },
    {
      "cell_type": "code",
      "source": [
        "# DONE\n",
        "''' Python Code for \"functions/create_ordered_markov.m\" '''\n",
        "\n",
        "def create_ordered_markov(n_features):\n",
        "\n",
        "    print(\"running function create_ordered_markov\")\n",
        "\n",
        "    # matrix with 0.25 along the diagonal axis\n",
        "    trans_mat = np.eye(n_features) * 1/n_features\n",
        "    print(trans_mat)\n",
        "\n",
        "    # add 0.75 probability for the next tone\n",
        "    # (basically the values in the matrix after the 0.25 values)\n",
        "    # loop rows:\n",
        "    for cur_row in range(n_features-1):\n",
        "        idx = cur_row + 1\n",
        "\n",
        "        if idx > n_features:\n",
        "            idx = idx - n_features\n",
        "\n",
        "        trans_mat[cur_row, idx] = 1 - 1/n_features\n",
        "\n",
        "    return trans_mat\n",
        "\n",
        "# Test it:\n",
        "print(create_ordered_markov(n_features = 4))\n"
      ],
      "metadata": {
        "colab": {
          "base_uri": "https://localhost:8080/"
        },
        "id": "N_iv3M07MCW3",
        "outputId": "b71636e4-36b3-4d98-9638-077f7e4a6c1a"
      },
      "execution_count": 60,
      "outputs": [
        {
          "output_type": "stream",
          "name": "stdout",
          "text": [
            "[[0.25 0.   0.   0.  ]\n",
            " [0.   0.25 0.   0.  ]\n",
            " [0.   0.   0.25 0.  ]\n",
            " [0.   0.   0.   0.25]]\n",
            "[[0.25 0.75 0.   0.  ]\n",
            " [0.   0.25 0.75 0.  ]\n",
            " [0.   0.   0.25 0.75]\n",
            " [0.   0.   0.   0.25]]\n"
          ]
        }
      ]
    },
    {
      "cell_type": "code",
      "source": [
        "# DONE\n",
        "''' Python Code for \"functions/create_random_markov.m\" '''\n",
        "\n",
        "def create_random_markov(n_features):\n",
        "\n",
        "    print(\"running function create_random_markov\")\n",
        "\n",
        "    trans_mat = np.ones((n_features, n_features)) * 1/n_features\n",
        "\n",
        "    return trans_mat\n",
        "\n",
        "# Test it:\n",
        "print(create_random_markov(n_features = 4))\n"
      ],
      "metadata": {
        "colab": {
          "base_uri": "https://localhost:8080/"
        },
        "id": "z63hsyA5MM1T",
        "outputId": "c57440c6-fba3-4797-b3a5-01e153907674"
      },
      "execution_count": 59,
      "outputs": [
        {
          "output_type": "stream",
          "name": "stdout",
          "text": [
            "[[0.25 0.25 0.25 0.25]\n",
            " [0.25 0.25 0.25 0.25]\n",
            " [0.25 0.25 0.25 0.25]\n",
            " [0.25 0.25 0.25 0.25]]\n"
          ]
        }
      ]
    },
    {
      "cell_type": "code",
      "source": [
        "''' Python Code for \"functions/ft_cfg2keyval.m\" '''\n",
        "\n",
        "\n",
        "''' What does this function do?'''\n",
        "# The function ft_cfg2keyval takes a structure cfg\n",
        "# and converts it into a cell-array called \"optarg\"\n",
        "# containing key-value pairs. If the input cfg is empty, an empty\n",
        "# list is returned.\n",
        "# I think Juliane got this from the FIELDTRIP toolbox.\n",
        "# I don't think\n",
        "def ft_cfg2keyval(cfg):\n",
        "\n",
        "    print(\"running function ft_cfg2keyval\")\n",
        "\n",
        "    # Convert a structure to a cell-array with key-value pairs\n",
        "    if cfg:\n",
        "        keys = list(cfg.keys())\n",
        "        values = list(cfg.values())\n",
        "        optarg = [keys, values]\n",
        "        optarg = [item for sublist in optarg for item in sublist]\n",
        "    else:\n",
        "        optarg = []\n",
        "    return optarg\n",
        "\n",
        "# Test it_\n",
        "print(prepare_cfg()) # before tranformation\n",
        "print(\"--------\")\n",
        "print(ft_cfg2keyval(prepare_cfg())) # after tranformation"
      ],
      "metadata": {
        "colab": {
          "base_uri": "https://localhost:8080/"
        },
        "id": "q0RZCzpFMSJK",
        "outputId": "b90f5df6-6201-4622-a6e5-0efe3d391398"
      },
      "execution_count": 58,
      "outputs": [
        {
          "output_type": "stream",
          "name": "stdout",
          "text": [
            "running function prepare_cfg\n",
            "{'data_path': 'data', 'markov': {'n_features': 4, 'min_prob': 0.05, 'iti': 0.3333333333333333}, 'exp': {'trials_per_block': 1500}, 'add_db': 40, 'sounds': {'freqs': [440.0, 586.6666666666666, 782.2222222222222, 1042.9629629629628], 'stim_length': 0.1, 'fade': 0.005}, 'triggers': {'stims': [16, 32, 64, 128], 'condition': {'ordered': 1, 'random': 2}}}\n",
            "--------\n",
            "running function prepare_cfg\n",
            "['data_path', 'markov', 'exp', 'add_db', 'sounds', 'triggers', 'data', {'n_features': 4, 'min_prob': 0.05, 'iti': 0.3333333333333333}, {'trials_per_block': 1500}, 40, {'freqs': [440.0, 586.6666666666666, 782.2222222222222, 1042.9629629629628], 'stim_length': 0.1, 'fade': 0.005}, {'stims': [16, 32, 64, 128], 'condition': {'ordered': 1, 'random': 2}}]\n"
          ]
        }
      ]
    },
    {
      "cell_type": "code",
      "source": [
        "# DONE I guess?! I don't know why I need this.\n",
        "''' Python Code for \"functions/ft_getopt.m\" '''\n",
        "\n",
        "\n",
        "''' What does this function do?'''\n",
        "# retrieves the value of a specified option key\n",
        "# from a configuration structure opt or a cell-array.\n",
        "# If the key is present in the structure or cell-array,\n",
        "# the corresponding value will be returned.\n",
        "# If the key is not present, the function will return\n",
        "# the default value.\n",
        "# The \"emptymeaningful\" parameter specifies whether\n",
        "# an empty value should be considered meaningful or not.\n",
        "# If it is True, an empty value will be returned as is.\n",
        "# If it is False, the default value will be\n",
        "# returned instead.\n",
        "\n",
        "\n",
        "def ft_getopt(opt, key, default = None, emptymeaningful = False):\n",
        "    # Get the value of a specified option from a configuration structure or cell-array\n",
        "\n",
        "    if default is None:\n",
        "        default = []\n",
        "\n",
        "    if opt is None:\n",
        "        return default\n",
        "\n",
        "    if isinstance(opt, dict):\n",
        "        # Get the key-value from the structure\n",
        "        if key not in opt:\n",
        "            val = default\n",
        "        else:\n",
        "            val = opt[key]\n",
        "\n",
        "    elif isinstance(opt, list):\n",
        "        # Get the key-value from the cell-array\n",
        "        if len(opt) % 2 != 0:\n",
        "            raise ValueError(\"Optional input arguments should come in key-value pairs\")\n",
        "\n",
        "        keys = opt[0::2]\n",
        "        vals = opt[1::2]\n",
        "\n",
        "        if not all(isinstance(k, str) for k in keys):\n",
        "            raise ValueError(\"Optional input arguments should come in key-value pairs, the optional input argument is invalid (should be a string)\")\n",
        "\n",
        "        hits = [i for i, k in enumerate(keys) if k.lower() == key.lower()]\n",
        "        if len(hits) == 0:\n",
        "            val = default\n",
        "        elif len(hits) == 1:\n",
        "            val = vals[hits[0]]\n",
        "        else:\n",
        "            raise ValueError(\"Multiple input arguments with the same name\")\n",
        "\n",
        "    else:\n",
        "        val = default\n",
        "\n",
        "    if val is None and default is not None and not emptymeaningful:\n",
        "        val = default\n",
        "\n",
        "    return val\n"
      ],
      "metadata": {
        "id": "4izgfWmGMWhn"
      },
      "execution_count": 56,
      "outputs": []
    },
    {
      "cell_type": "code",
      "source": [
        "# Depends on ADO_staircase\n",
        "\n",
        "''' Python Code for \"o_ptb_helper/volume_bayes.m\" '''\n",
        "\n",
        "def volume_bayes(cfg, sound):\n",
        "    # Perform volume staircase estimation\n",
        "    cfg.question_text              = ft_getopt(cfg, 'question_text', 'Haben Sie etwas gehört?')\n",
        "    cfg.yes_text                   = ft_getopt(cfg, 'yes_text', 'Ja = Roter Knopf')\n",
        "    cfg.no_text                    = ft_getopt(cfg, 'no_text', 'Nein = Grüner Knopf')\n",
        "    cfg.db_start                   = ft_getopt(cfg, 'db_start', 40)\n",
        "    cfg.db_step                    = ft_getopt(cfg, 'db_step', 1)\n",
        "    cfg.db_min                     = ft_getopt(cfg, 'db_min', 20)\n",
        "    cfg.db_max                     = ft_getopt(cfg, 'db_max', 120)\n",
        "    cfg.max_trials                 = ft_getopt(cfg, 'max_trials', 30)\n",
        "    cfg.yes_response               = ft_getopt(cfg, 'yes_response', 'yes')\n",
        "    cfg.no_response                = ft_getopt(cfg, 'no_response', 'no')\n",
        "    cfg.stim_delay_avg             = ft_getopt(cfg, 'stim_delay_avg', 1)\n",
        "    cfg.stim_delay_jitter          = ft_getopt(cfg, 'stim_delay_jitter', 0.2)\n",
        "    cfg.additional_post_stim_delay = ft_getopt(cfg, 'additional_post_stim_delay', 0.3)\n",
        "\n",
        "    present_function = lambda bayes_cfg: volume_bayes_present(cfg, sound, bayes_cfg)\n",
        "    bayes_cfg = {}\n",
        "    bayes_cfg['thresh'] = cfg.db_start\n",
        "    gridu = range(cfg.db_min, cfg.db_max + 1, cfg.db_step)\n",
        "    thresh, sc = ADO_staircase(bayes_cfg, gridu, cfg.max_trials, present_function, 0.5, False)\n",
        "    sound.db = -thresh\n",
        "\n",
        "    return sound"
      ],
      "metadata": {
        "id": "ztj6gg7BMZ7l"
      },
      "execution_count": 57,
      "outputs": []
    },
    {
      "cell_type": "code",
      "source": [
        "''' Python Code for \"o_ptb_helper/volume_staircase.m\" '''\n",
        "\n"
      ],
      "metadata": {
        "id": "X7kdukYzMeC-"
      },
      "execution_count": null,
      "outputs": []
    },
    {
      "cell_type": "code",
      "source": [
        "''' Python Code for \"o_ptb_helper/private/volume_bayes_present.m\" '''\n",
        "\n"
      ],
      "metadata": {
        "id": "h_GE3GT_Mhn3"
      },
      "execution_count": null,
      "outputs": []
    },
    {
      "cell_type": "code",
      "source": [
        "# DONE\n",
        "''' Python Code for \"calc_nstims.m\" '''\n",
        "\n",
        "# get cfg\n",
        "cfg = prepare_cfg()\n",
        "\n",
        "# get number of features\n",
        "n_features = cfg['markov']['n_features']\n",
        "\n",
        "# get ITI:\n",
        "iti = cfg['markov']['iti']\n",
        "\n",
        "# set other variables\n",
        "n_conditions = 3\n",
        "stims_per_sound_and_condition = 500\n",
        "\n",
        "# calculate number of trials\n",
        "n_trials = n_conditions * n_features * stims_per_sound_and_condition\n",
        "# calculate duration\n",
        "duration_in_min = iti * n_trials / 60"
      ],
      "metadata": {
        "id": "PWMh7mGvNF3k"
      },
      "execution_count": null,
      "outputs": []
    },
    {
      "cell_type": "markdown",
      "source": [
        "OLD:"
      ],
      "metadata": {
        "id": "gVtUmkn0MoSu"
      }
    },
    {
      "cell_type": "code",
      "source": [
        "# how to play sound in psychopy:\n",
        "\n",
        "from psychopy import sound\n",
        "import numpy as np\n",
        "\n",
        "# Set the frequency and duration of the sine wave\n",
        "cur_freq = 440 # in Hz\n",
        "duration = 0.1 # in seconds\n",
        "\n",
        "# Create a time array with the specified duration\n",
        "t = np.arange(0, duration, 1/sound.getSamplingRate())\n",
        "\n",
        "# Generate the sine wave using numpy\n",
        "sine_wave = np.sin(2*np.pi*cur_freq*t)\n",
        "\n",
        "# Create a PsychoPy sound object with the generated sine wave\n",
        "audio_stim = sound.Sound(sine_wave)\n",
        "\n",
        "# Play the sound\n",
        "audio_stim.play()\n",
        "\n",
        "# Wait for the sound to finish playing\n",
        "audio_stim.wait()"
      ],
      "metadata": {
        "id": "aapinpLGCkk2"
      },
      "execution_count": null,
      "outputs": []
    },
    {
      "cell_type": "code",
      "source": [],
      "metadata": {
        "id": "oTEWeqt5CmjU"
      },
      "execution_count": null,
      "outputs": []
    }
  ]
}